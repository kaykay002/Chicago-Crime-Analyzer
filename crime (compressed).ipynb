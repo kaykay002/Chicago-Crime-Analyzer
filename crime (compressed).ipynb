{
 "cells": [
  {
   "cell_type": "markdown",
   "metadata": {},
   "source": [
    "## Data Loading"
   ]
  },
  {
   "cell_type": "code",
   "execution_count": null,
   "metadata": {},
   "outputs": [],
   "source": [
    "import pandas as pd"
   ]
  },
  {
   "cell_type": "code",
   "execution_count": null,
   "metadata": {},
   "outputs": [],
   "source": [
    "import numpy as np"
   ]
  },
  {
   "cell_type": "code",
   "execution_count": null,
   "metadata": {},
   "outputs": [],
   "source": [
    "df_crime=pd.read_csv(r\"Crimes_-_2001_to_Present.csv\")"
   ]
  },
  {
   "cell_type": "code",
   "execution_count": null,
   "metadata": {},
   "outputs": [],
   "source": [
    "df_crime.head(5)"
   ]
  },
  {
   "cell_type": "code",
   "execution_count": null,
   "metadata": {},
   "outputs": [],
   "source": [
    "df_crime.info()"
   ]
  },
  {
   "cell_type": "code",
   "execution_count": null,
   "metadata": {},
   "outputs": [],
   "source": [
    "df_crime.isna().sum()"
   ]
  },
  {
   "cell_type": "code",
   "execution_count": null,
   "metadata": {},
   "outputs": [],
   "source": [
    "df_crime.shape"
   ]
  },
  {
   "cell_type": "markdown",
   "metadata": {},
   "source": [
    "## Data cleaning"
   ]
  },
  {
   "cell_type": "code",
   "execution_count": null,
   "metadata": {},
   "outputs": [],
   "source": [
    "df_crime.drop_duplicates"
   ]
  },
  {
   "cell_type": "code",
   "execution_count": null,
   "metadata": {},
   "outputs": [],
   "source": [
    "# Removing rows with null values in the specified columns\n",
    "df_crime_final = df_crime.dropna(subset=['Latitude', 'Longitude', 'Location','X Coordinate','Y Coordinate','Location Description','District'])\n"
   ]
  },
  {
   "cell_type": "code",
   "execution_count": null,
   "metadata": {},
   "outputs": [],
   "source": [
    "df_crime_final.isna().sum()"
   ]
  },
  {
   "cell_type": "code",
   "execution_count": null,
   "metadata": {},
   "outputs": [],
   "source": [
    "df_crime_final['Community Area'].fillna(method='ffill',inplace=True)\n",
    "df_crime_final['Community Area'].fillna(method='bfill',inplace=True)\n",
    "\n",
    "df_crime_final['Ward'].fillna(method='ffill',inplace=True)\n",
    "df_crime_final['Ward'].fillna(method='bfill',inplace=True)"
   ]
  },
  {
   "cell_type": "code",
   "execution_count": null,
   "metadata": {},
   "outputs": [],
   "source": [
    "df_crime_final.isna().sum()"
   ]
  },
  {
   "cell_type": "code",
   "execution_count": null,
   "metadata": {},
   "outputs": [],
   "source": [
    "df_crime_final.shape"
   ]
  },
  {
   "cell_type": "code",
   "execution_count": null,
   "metadata": {},
   "outputs": [],
   "source": [
    "8077151-7979798"
   ]
  },
  {
   "cell_type": "code",
   "execution_count": null,
   "metadata": {},
   "outputs": [],
   "source": [
    "# Convert 'Date' to datetime with the correct format\n",
    "df_crime_final['Date'] = pd.to_datetime(df_crime_final['Date'], format='%m/%d/%Y %I:%M:%S %p')\n",
    "\n",
    "# Create 'Year' column\n",
    "df_crime_final['Year'] = df_crime_final['Date'].dt.year\n",
    "\n",
    "# Create 'Hour' column\n",
    "df_crime_final['Hour'] = df_crime_final['Date'].dt.hour\n",
    "\n",
    "# Create 'Day of Week' column\n",
    "df_crime_final['Day of Week'] = df_crime_final['Date'].dt.dayofweek  # Monday=0, Sunday=6\n",
    "\n",
    "# Create 'Month' column\n",
    "df_crime_final['Month'] = df_crime_final['Date'].dt.month\n",
    "\n",
    "# Create 'Day' column\n",
    "df_crime_final['Day'] = df_crime_final['Date'].dt.day\n",
    "\n"
   ]
  },
  {
   "cell_type": "code",
   "execution_count": null,
   "metadata": {},
   "outputs": [],
   "source": [
    "df_crime_final.to_csv(\"Chicago_Crimes.csv\",index=False)"
   ]
  },
  {
   "cell_type": "code",
   "execution_count": null,
   "metadata": {},
   "outputs": [],
   "source": [
    "df_crime_final.columns"
   ]
  },
  {
   "cell_type": "code",
   "execution_count": null,
   "metadata": {},
   "outputs": [],
   "source": [
    "df_crime_final.shape"
   ]
  },
  {
   "cell_type": "markdown",
   "metadata": {},
   "source": [
    "## Exploratory Data Analysis (EDA)"
   ]
  },
  {
   "cell_type": "code",
   "execution_count": null,
   "metadata": {},
   "outputs": [],
   "source": [
    "import matplotlib as plt\n",
    "import matplotlib.pyplot as plt"
   ]
  },
  {
   "cell_type": "code",
   "execution_count": null,
   "metadata": {},
   "outputs": [],
   "source": [
    "import seaborn as sns"
   ]
  },
  {
   "cell_type": "code",
   "execution_count": null,
   "metadata": {},
   "outputs": [],
   "source": [
    "from datetime import datetime"
   ]
  },
  {
   "cell_type": "markdown",
   "metadata": {},
   "source": [
    "### 1. Temporal Analysis"
   ]
  },
  {
   "cell_type": "markdown",
   "metadata": {},
   "source": [
    "#### Crime Trends Over Time: Examining how the number of crimes has changed over the years."
   ]
  },
  {
   "cell_type": "code",
   "execution_count": null,
   "metadata": {},
   "outputs": [],
   "source": [
    "import plotly.graph_objs as go\n",
    "\n",
    "# Grouping data by year and counting the number of crimes\n",
    "crimes_per_year = df_crime_final['Year'].value_counts().sort_index()\n",
    "\n",
    "# Creating a Plotly line plot for crimes per year\n",
    "fig = go.Figure()\n",
    "fig.add_trace(go.Scatter(x=crimes_per_year.index, y=crimes_per_year.values,\n",
    "                         mode='lines+markers', marker=dict(color='blue'),\n",
    "                         hovertemplate='<b>Year:</b> %{x}<br><b>Number of Crimes:</b> %{y}<extra></extra>'))\n",
    "fig.update_layout(title='Number of Crimes Per Year',\n",
    "                  xaxis_title='Year',\n",
    "                  yaxis_title='Number of Crimes')\n",
    "fig.show()\n"
   ]
  },
  {
   "cell_type": "markdown",
   "metadata": {},
   "source": [
    "### 2. Crime Trends Over Time (Number of Crimes Per Month)"
   ]
  },
  {
   "cell_type": "code",
   "execution_count": null,
   "metadata": {},
   "outputs": [],
   "source": [
    "import plotly.graph_objs as go\n",
    "\n",
    "# Grouping data by month and year, and counting the number of crimes\n",
    "crimes_per_month = df_crime_final.groupby(['Year', 'Month']).size().reset_index(name='Count')\n",
    "\n",
    "# Creating a Plotly line plot for crimes per month\n",
    "fig = go.Figure()\n",
    "for year in crimes_per_month['Year'].unique():\n",
    "    data_year = crimes_per_month[crimes_per_month['Year'] == year]\n",
    "    fig.add_trace(go.Scatter(x=data_year['Month'], y=data_year['Count'],\n",
    "                             mode='lines+markers', name=str(year),\n",
    "                             hovertemplate='<b>Month:</b> %{x}<br><b>Number of Crimes:</b> %{y}<extra></extra>'))\n",
    "fig.update_layout(title='Number of Crimes Per Month',\n",
    "                  xaxis_title='Month',\n",
    "                  yaxis_title='Number of Crimes')\n",
    "fig.show()\n"
   ]
  },
  {
   "cell_type": "markdown",
   "metadata": {},
   "source": [
    "### 3. Peak Crime Hours (Number of Crimes Per Hour)"
   ]
  },
  {
   "cell_type": "code",
   "execution_count": null,
   "metadata": {},
   "outputs": [],
   "source": [
    "# Grouping data by hour of the day and counting the number of crimes\n",
    "crimes_per_hour = df_crime_final['Hour'].value_counts().sort_index()\n",
    "\n",
    "# Creating a Plotly bar plot for crimes per hour\n",
    "fig = go.Figure()\n",
    "fig.add_trace(go.Bar(x=crimes_per_hour.index, y=crimes_per_hour.values,\n",
    "                     marker=dict(color='green')))\n",
    "fig.update_layout(title='Number of Crimes Per Hour',\n",
    "                  xaxis_title='Hour of the Day',\n",
    "                  yaxis_title='Number of Crimes')\n",
    "fig.show()\n"
   ]
  },
  {
   "cell_type": "markdown",
   "metadata": {},
   "source": [
    "### 4. Crime Trends Over Time (Number of Crimes Per Day of the Week)"
   ]
  },
  {
   "cell_type": "code",
   "execution_count": null,
   "metadata": {},
   "outputs": [],
   "source": [
    "import plotly.graph_objects as go\n",
    "\n",
    "# Group data by day of the week and count the number of crimes\n",
    "crimes_per_day = df_crime_final['Day of Week'].value_counts().reset_index()\n",
    "crimes_per_day.columns = ['Day of Week', 'Crime Count']\n",
    "\n",
    "# Sort days of the week in chronological order\n",
    "days_order = ['Monday', 'Tuesday', 'Wednesday', 'Thursday', 'Friday', 'Saturday', 'Sunday']\n",
    "crimes_per_day = crimes_per_day.sort_values('Day of Week', key=lambda x: pd.Categorical(x, categories=days_order, ordered=True))\n",
    "\n",
    "# Create a line chart for crimes per day of the week\n",
    "fig = go.Figure(data=[\n",
    "    go.Scatter(x=crimes_per_day['Day of Week'], y=crimes_per_day['Crime Count'], mode='lines+markers')\n",
    "])\n",
    "\n",
    "fig.update_layout(\n",
    "    title='Number of Crimes Per Day of the Week',\n",
    "    xaxis_title='Day of the Week',\n",
    "    yaxis_title='Number of Crimes'\n",
    ")\n",
    "\n",
    "fig.show()\n"
   ]
  },
  {
   "cell_type": "markdown",
   "metadata": {},
   "source": [
    "### 5. Crime Trends Over Time (Number of Crimes Per Season)"
   ]
  },
  {
   "cell_type": "code",
   "execution_count": null,
   "metadata": {},
   "outputs": [],
   "source": [
    "# Group data by season and count the number of crimes\n",
    "crimes_per_season = df_crime_final['Season'].value_counts().reset_index()\n",
    "crimes_per_season.columns = ['Season', 'Crime Count']\n",
    "\n",
    "# Create a bar chart for crimes per season\n",
    "fig = go.Figure(data=[\n",
    "    go.Bar(x=crimes_per_season['Season'], y=crimes_per_season['Crime Count'])\n",
    "])\n",
    "\n",
    "fig.update_layout(\n",
    "    title='Number of Crimes Per Season',\n",
    "    xaxis_title='Season',\n",
    "    yaxis_title='Number of Crimes'\n",
    ")\n",
    "\n",
    "fig.show()\n"
   ]
  },
  {
   "cell_type": "markdown",
   "metadata": {},
   "source": [
    "### 2. Geospatial Analysis"
   ]
  },
  {
   "cell_type": "markdown",
   "metadata": {},
   "source": [
    "#### Crime Hotspots Map"
   ]
  },
  {
   "cell_type": "code",
   "execution_count": null,
   "metadata": {},
   "outputs": [],
   "source": [
    "import folium\n",
    "from folium.plugins import HeatMap\n",
    "\n",
    "# Create a base map centered around Chicago\n",
    "chicago_map = folium.Map(location=[41.8781, -87.6298], zoom_start=11)\n",
    "\n",
    "# Extract latitude and longitude coordinates\n",
    "crime_locations = df_crime_final[['Latitude', 'Longitude']].values.tolist()\n",
    "\n",
    "# Add heatmap layer to the map\n",
    "HeatMap(crime_locations, radius=10).add_to(chicago_map)\n",
    "\n",
    "# Display the map\n",
    "chicago_map\n"
   ]
  },
  {
   "cell_type": "markdown",
   "metadata": {},
   "source": [
    "### District/Ward Analysis"
   ]
  },
  {
   "cell_type": "code",
   "execution_count": null,
   "metadata": {},
   "outputs": [],
   "source": [
    "import plotly.graph_objects as go\n",
    "\n",
    "# Group data by ward and count the number of crimes\n",
    "ward_crime_counts = df_crime_final['Ward'].value_counts().reset_index()\n",
    "ward_crime_counts.columns = ['Ward', 'Crime Count']\n",
    "\n",
    "# Create a bar chart for crimes per ward\n",
    "fig = go.Figure(go.Bar(\n",
    "    x=ward_crime_counts['Ward'],\n",
    "    y=ward_crime_counts['Crime Count'],\n",
    "    marker=dict(color='red'),  # Adjust color if needed\n",
    "))\n",
    "\n",
    "fig.update_layout(\n",
    "    title='Crimes Per Ward',\n",
    "    xaxis_title='Ward',\n",
    "    yaxis_title='Number of Crimes',\n",
    ")\n",
    "\n",
    "fig.show()\n"
   ]
  },
  {
   "cell_type": "markdown",
   "metadata": {},
   "source": [
    "## 3. Crime Type Analysis\n"
   ]
  },
  {
   "cell_type": "markdown",
   "metadata": {},
   "source": [
    "### Distribution of Crime Types"
   ]
  },
  {
   "cell_type": "code",
   "execution_count": null,
   "metadata": {},
   "outputs": [],
   "source": [
    "import plotly.graph_objects as go\n",
    "\n",
    "# Assuming you have a DataFrame 'df_crime_final' with a column 'Primary Type' representing the primary type of each crime\n",
    "\n",
    "# Count the frequency of each crime type\n",
    "crime_type_counts = df_crime_final['Primary Type'].value_counts().reset_index()\n",
    "crime_type_counts.columns = ['Crime Type', 'Crime Count']\n",
    "\n",
    "# Sort the DataFrame by crime count in descending order\n",
    "crime_type_counts = crime_type_counts.sort_values(by='Crime Count', ascending=False)\n",
    "\n",
    "# Create a line graph for the distribution of crime types\n",
    "fig = go.Figure()\n",
    "fig.add_trace(go.Scatter(x=crime_type_counts['Crime Type'], y=crime_type_counts['Crime Count'], mode='lines+markers'))\n",
    "\n",
    "fig.update_layout(\n",
    "    title='Distribution of Crime Types',\n",
    "    xaxis_title='Crime Type',\n",
    "    yaxis_title='Crime Count',\n",
    "    height=800 \n",
    ")\n",
    "\n",
    "fig.show()\n"
   ]
  },
  {
   "cell_type": "markdown",
   "metadata": {},
   "source": [
    "### Severity Analysis"
   ]
  },
  {
   "cell_type": "code",
   "execution_count": null,
   "metadata": {},
   "outputs": [],
   "source": [
    "import plotly.graph_objects as go\n",
    "\n",
    "# List of severe crimes\n",
    "severe_crimes = ['HOMICIDE', 'CRIMINAL SEXUAL ASSAULT', 'OFFENSE INVOLVING CHILDREN', \n",
    "                 'ROBBERY', 'ASSAULT', 'SEX OFFENSE', 'WEAPONS VIOLATION', \n",
    "                 'KIDNAPPING', 'ARSON', 'HUMAN TRAFFICKING', 'CRIM SEXUAL ASSAULT', \n",
    "                 'DOMESTIC VIOLENCE']\n",
    "\n",
    "# List of less severe crimes\n",
    "less_severe_crimes = ['BURGLARY', 'BATTERY', 'CRIMINAL DAMAGE', 'DECEPTIVE PRACTICE', \n",
    "                      'THEFT', 'MOTOR VEHICLE THEFT', 'OTHER OFFENSE', 'STALKING', \n",
    "                      'CRIMINAL TRESPASS', 'PROSTITUTION', 'NARCOTICS', \n",
    "                      'CONCEALED CARRY LICENSE VIOLATION', 'INTERFERENCE WITH PUBLIC OFFICER', \n",
    "                      'PUBLIC PEACE VIOLATION', 'OBSCENITY', 'LIQUOR LAW VIOLATION', \n",
    "                      'INTIMIDATION', 'GAMBLING', 'OTHER NARCOTIC VIOLATION', 'NON-CRIMINAL', \n",
    "                      'PUBLIC INDECENCY', 'RITUALISM', 'NON-CRIMINAL (SUBJECT SPECIFIED)', \n",
    "                      'NON - CRIMINAL']\n",
    "\n",
    "# Count the frequency of severe and less severe crimes\n",
    "severe_count = sum(df_crime_final['Primary Type'].isin(severe_crimes))\n",
    "less_severe_count = sum(df_crime_final['Primary Type'].isin(less_severe_crimes))\n",
    "\n",
    "# Create hover text for each category\n",
    "hover_text_severe = f'Severe Crimes:<br>{\"<br>\".join(severe_crimes)}'\n",
    "hover_text_less_severe = f'Less Severe Crimes:<br>{\"<br>\".join(less_severe_crimes)}'\n",
    "\n",
    "# Create a donut chart for the distribution of crimes by severity\n",
    "labels = ['Severe', 'Less Severe']\n",
    "values = [severe_count, less_severe_count]\n",
    "hover_text = [hover_text_severe, hover_text_less_severe]\n",
    "\n",
    "fig = go.Figure(data=[go.Pie(labels=labels, values=values, hole=.4, hovertext=hover_text, hoverinfo='text')])\n",
    "fig.update_traces(textinfo='label+percent', insidetextorientation='radial')\n",
    "\n",
    "fig.update_layout(title='Distribution of Crimes by Severity',height=500)\n",
    "fig.update_layout(hoverlabel=dict(font=dict(size=8)))\n",
    "fig.show()\n"
   ]
  },
  {
   "cell_type": "markdown",
   "metadata": {},
   "source": [
    "### 4. Arrest and Domestic Incident Analysis\n"
   ]
  },
  {
   "cell_type": "markdown",
   "metadata": {},
   "source": [
    "#### Arrest Rates Analysis"
   ]
  },
  {
   "cell_type": "code",
   "execution_count": null,
   "metadata": {},
   "outputs": [],
   "source": [
    "import plotly.graph_objects as go\n",
    "\n",
    "# Calculate arrest rates by crime type\n",
    "arrest_rates = df_crime_final.groupby('Primary Type')['Arrest'].mean().sort_values(ascending=False).reset_index()\n",
    "\n",
    "# Create a bar chart for arrest rates\n",
    "fig_arrest_rates = go.Figure(data=[\n",
    "    go.Bar(\n",
    "        x=arrest_rates['Primary Type'],\n",
    "        y=arrest_rates['Arrest'] * 100,  # Convert to percentage\n",
    "        text=arrest_rates['Arrest'] * 100,\n",
    "        textposition='auto'\n",
    "    )\n",
    "])\n",
    "\n",
    "fig_arrest_rates.update_layout(\n",
    "    title='Arrest Rates by Crime Type',\n",
    "    xaxis_title='Crime Type',\n",
    "    yaxis_title='Arrest Rate (%)',\n",
    "    xaxis_tickangle=-45,\n",
    "    height=600\n",
    ")\n",
    "\n",
    "fig_arrest_rates.show()\n"
   ]
  },
  {
   "cell_type": "markdown",
   "metadata": {},
   "source": [
    "#### Domestic vs. Non-Domestic Crimes Analysis"
   ]
  },
  {
   "cell_type": "code",
   "execution_count": null,
   "metadata": {},
   "outputs": [],
   "source": [
    "# Calculate the number of domestic vs. non-domestic crimes\n",
    "domestic_counts = df_crime_final['Domestic'].value_counts()\n",
    "\n",
    "# Create a pie chart for domestic vs. non-domestic crimes\n",
    "fig_domestic = go.Figure(data=[\n",
    "    go.Pie(\n",
    "        labels=['Non-Domestic', 'Domestic'],\n",
    "        values=[domestic_counts[False], domestic_counts[True]],\n",
    "        hole=.3,\n",
    "        hoverinfo='label+percent+value'\n",
    "    )\n",
    "])\n",
    "\n",
    "fig_domestic.update_layout(\n",
    "    title='Domestic vs. Non-Domestic Crimes'\n",
    ")\n",
    "\n",
    "fig_domestic.show()\n"
   ]
  },
  {
   "cell_type": "markdown",
   "metadata": {},
   "source": [
    "#### Detailed Analysis of Domestic vs. Non-Domestic Crimes"
   ]
  },
  {
   "cell_type": "code",
   "execution_count": null,
   "metadata": {},
   "outputs": [],
   "source": [
    "import plotly.graph_objects as go\n",
    "\n",
    "# Calculate the distribution of crime types for domestic vs. non-domestic incidents\n",
    "domestic_crime_types = df_crime_final[df_crime_final['Domestic'] == True]['Primary Type'].value_counts().reset_index()\n",
    "domestic_crime_types.columns = ['Primary Type', 'Domestic Count']\n",
    "\n",
    "non_domestic_crime_types = df_crime_final[df_crime_final['Domestic'] == False]['Primary Type'].value_counts().reset_index()\n",
    "non_domestic_crime_types.columns = ['Primary Type', 'Non-Domestic Count']\n",
    "\n",
    "# Merge the dataframes for comparison\n",
    "domestic_comparison = domestic_crime_types.merge(non_domestic_crime_types, on='Primary Type', how='outer').fillna(0)\n",
    "\n",
    "# Create a bar chart for domestic vs. non-domestic crime types\n",
    "fig_domestic_comparison = go.Figure(data=[\n",
    "    go.Bar(\n",
    "        x=domestic_comparison['Primary Type'],\n",
    "        y=domestic_comparison['Domestic Count'],\n",
    "        name='Domestic'\n",
    "    ),\n",
    "    go.Bar(\n",
    "        x=domestic_comparison['Primary Type'],\n",
    "        y=domestic_comparison['Non-Domestic Count'],\n",
    "        name='Non-Domestic'\n",
    "    )\n",
    "])\n",
    "\n",
    "fig_domestic_comparison.update_layout(\n",
    "    title='Crime Types: Domestic vs. Non-Domestic',\n",
    "    xaxis_title='Crime Type',\n",
    "    yaxis_title='Number of Crimes',\n",
    "    barmode='group',\n",
    "    xaxis_tickangle=-45,\n",
    "    height=800\n",
    ")\n",
    "\n",
    "fig_domestic_comparison.show()\n"
   ]
  },
  {
   "cell_type": "markdown",
   "metadata": {},
   "source": [
    "### Location-Specific Analysis\n",
    "#### Location Description Analysis\n"
   ]
  },
  {
   "cell_type": "code",
   "execution_count": null,
   "metadata": {},
   "outputs": [],
   "source": [
    "import plotly.graph_objects as go\n",
    "\n",
    "# Calculate the most common locations for crimes\n",
    "location_counts = df_crime_final['Location Description'].value_counts().head(30).reset_index()\n",
    "location_counts.columns = ['Location Description', 'Crime Count']\n",
    "\n",
    "# Create a horizontal bar chart for the most common crime locations\n",
    "fig_location_counts = go.Figure(data=[\n",
    "    go.Bar(\n",
    "        x=location_counts['Crime Count'],\n",
    "        y=location_counts['Location Description'],\n",
    "        orientation='h',\n",
    "        text=location_counts['Crime Count'],\n",
    "        textposition='auto'\n",
    "    )\n",
    "])\n",
    "\n",
    "fig_location_counts.update_layout(\n",
    "    title='Top 30 Most Common Locations for Crimes',\n",
    "    xaxis_title='Number of Crimes',\n",
    "    yaxis_title='Location Description',\n",
    "    height=600\n",
    ")\n",
    "\n",
    "fig_location_counts.show()\n"
   ]
  },
  {
   "cell_type": "markdown",
   "metadata": {},
   "source": [
    "#### Beat and Community Area Analysis"
   ]
  },
  {
   "cell_type": "code",
   "execution_count": null,
   "metadata": {},
   "outputs": [],
   "source": [
    "import plotly.express as px\n",
    "\n",
    "# Limit the number of crime types and locations for readability\n",
    "top_locations = df_crime_final['Location Description'].value_counts().head(30).index\n",
    "top_crime_types = df_crime_final['Primary Type'].value_counts().head(10).index\n",
    "\n",
    "# Filter the data to include only the top locations and crime types\n",
    "filtered_data = df_crime_final[df_crime_final['Location Description'].isin(top_locations) & df_crime_final['Primary Type'].isin(top_crime_types)]\n",
    "\n",
    "# Calculate the number of different crime types by location\n",
    "location_crime_types = filtered_data.groupby(['Location Description', 'Primary Type']).size().reset_index(name='Crime Count')\n",
    "\n",
    "# Create a heatmap for crime types by location\n",
    "fig_location_crime_types = px.density_heatmap(\n",
    "    location_crime_types,\n",
    "    x='Location Description',\n",
    "    y='Primary Type',\n",
    "    z='Crime Count',\n",
    "    title='Top 30 Crime Types by Top 30 Locations',\n",
    "    color_continuous_scale='Viridis'\n",
    ")\n",
    "\n",
    "fig_location_crime_types.update_layout(\n",
    "    xaxis_tickangle=-45,\n",
    "    height=600\n",
    ")\n",
    "\n",
    "fig_location_crime_types.show()\n"
   ]
  },
  {
   "cell_type": "markdown",
   "metadata": {},
   "source": [
    "#### Beat and Community Area Analysis"
   ]
  },
  {
   "cell_type": "code",
   "execution_count": null,
   "metadata": {},
   "outputs": [],
   "source": [
    "# Calculate the number of crimes by community area\n",
    "community_area_counts = df_crime_final['Community Area'].value_counts().reset_index()\n",
    "community_area_counts.columns = ['Community Area', 'Crime Count']\n",
    "\n",
    "# Create a bar chart for crime counts by community area\n",
    "fig_community_area_counts = go.Figure(data=[\n",
    "    go.Bar(\n",
    "        x=community_area_counts['Community Area'],\n",
    "        y=community_area_counts['Crime Count'],\n",
    "        text=community_area_counts['Crime Count'],\n",
    "        textposition='auto'\n",
    "    )\n",
    "])\n",
    "\n",
    "fig_community_area_counts.update_layout(\n",
    "    title='Crime Counts by Community Area',\n",
    "    xaxis_title='Community Area',\n",
    "    yaxis_title='Number of Crimes',\n",
    "    xaxis_tickangle=-45,\n",
    "    height=600\n",
    ")\n",
    "\n",
    "fig_community_area_counts.show()\n"
   ]
  },
  {
   "cell_type": "code",
   "execution_count": null,
   "metadata": {},
   "outputs": [],
   "source": [
    "import plotly.graph_objects as go\n",
    "\n",
    "# Group the data by beat and community area and count the number of crimes\n",
    "crime_heatmap_data = df_crime_final.groupby(['Beat', 'Community Area']).size().reset_index(name='Crime Count')\n",
    "\n",
    "# Create the heatmap\n",
    "fig_heatmap = go.Figure(data=go.Heatmap(\n",
    "                   z=crime_heatmap_data['Crime Count'],\n",
    "                   x=crime_heatmap_data['Beat'],\n",
    "                   y=crime_heatmap_data['Community Area'],\n",
    "                   hovertext=['Beat: {}<br>Community Area: {}<br>Crime Count: {}'.format(beat, area, count) \n",
    "                              for beat, area, count in zip(crime_heatmap_data['Beat'], \n",
    "                                                           crime_heatmap_data['Community Area'], \n",
    "                                                           crime_heatmap_data['Crime Count'])],\n",
    "                   colorscale='Reds',  # Choose the colorscale\n",
    "                   colorbar=dict(title='Crime Count')  # Add a colorbar\n",
    "))\n",
    "\n",
    "# Update layout\n",
    "fig_heatmap.update_layout(\n",
    "    title='Crime Heatmap by Beat and Community Area',\n",
    "    xaxis_title='Police Beat',\n",
    "    yaxis_title='Community Area',\n",
    "    height=800,\n",
    "    plot_bgcolor='white',  # White background\n",
    "    font=dict(color='black')  # Font color\n",
    ")\n",
    "\n",
    "fig_heatmap.show()\n"
   ]
  },
  {
   "cell_type": "markdown",
   "metadata": {},
   "source": [
    "### Repeat Offenders and Recidivism Analysis\n"
   ]
  }
 ],
 "metadata": {
  "kernelspec": {
   "display_name": "Python 3",
   "language": "python",
   "name": "python3"
  },
  "language_info": {
   "codemirror_mode": {
    "name": "ipython",
    "version": 3
   },
   "file_extension": ".py",
   "mimetype": "text/x-python",
   "name": "python",
   "nbconvert_exporter": "python",
   "pygments_lexer": "ipython3",
   "version": "3.12.4"
  }
 },
 "nbformat": 4,
 "nbformat_minor": 2
}
